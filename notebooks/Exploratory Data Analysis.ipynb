{
 "cells": [
  {
   "cell_type": "code",
   "execution_count": 6,
   "metadata": {},
   "outputs": [
    {
     "data": {
      "text/html": [
       "<div>\n",
       "<style scoped>\n",
       "    .dataframe tbody tr th:only-of-type {\n",
       "        vertical-align: middle;\n",
       "    }\n",
       "\n",
       "    .dataframe tbody tr th {\n",
       "        vertical-align: top;\n",
       "    }\n",
       "\n",
       "    .dataframe thead th {\n",
       "        text-align: right;\n",
       "    }\n",
       "</style>\n",
       "<table border=\"1\" class=\"dataframe\">\n",
       "  <thead>\n",
       "    <tr style=\"text-align: right;\">\n",
       "      <th></th>\n",
       "      <th>Position</th>\n",
       "      <th>Track Name</th>\n",
       "      <th>Artist</th>\n",
       "      <th>Streams</th>\n",
       "      <th>date</th>\n",
       "      <th>region</th>\n",
       "      <th>spotify_id</th>\n",
       "    </tr>\n",
       "  </thead>\n",
       "  <tbody>\n",
       "    <tr>\n",
       "      <th>0</th>\n",
       "      <td>1.0</td>\n",
       "      <td>Starboy</td>\n",
       "      <td>The Weeknd</td>\n",
       "      <td>3135625.0</td>\n",
       "      <td>2017-01-01</td>\n",
       "      <td>global</td>\n",
       "      <td>5aAx2yezTd8zXrkmtKl66Z</td>\n",
       "    </tr>\n",
       "    <tr>\n",
       "      <th>1</th>\n",
       "      <td>2.0</td>\n",
       "      <td>Closer</td>\n",
       "      <td>The Chainsmokers</td>\n",
       "      <td>3015525.0</td>\n",
       "      <td>2017-01-01</td>\n",
       "      <td>global</td>\n",
       "      <td>7BKLCZ1jbUBVqRi2FVlTVw</td>\n",
       "    </tr>\n",
       "    <tr>\n",
       "      <th>2</th>\n",
       "      <td>3.0</td>\n",
       "      <td>Let Me Love You</td>\n",
       "      <td>DJ Snake</td>\n",
       "      <td>2545384.0</td>\n",
       "      <td>2017-01-01</td>\n",
       "      <td>global</td>\n",
       "      <td>4pdPtRcBmOSQDlJ3Fk945m</td>\n",
       "    </tr>\n",
       "    <tr>\n",
       "      <th>3</th>\n",
       "      <td>4.0</td>\n",
       "      <td>Rockabye (feat. Sean Paul &amp; Anne-Marie)</td>\n",
       "      <td>Clean Bandit</td>\n",
       "      <td>2356604.0</td>\n",
       "      <td>2017-01-01</td>\n",
       "      <td>global</td>\n",
       "      <td>5knuzwU65gJK7IF5yJsuaW</td>\n",
       "    </tr>\n",
       "    <tr>\n",
       "      <th>4</th>\n",
       "      <td>5.0</td>\n",
       "      <td>One Dance</td>\n",
       "      <td>Drake</td>\n",
       "      <td>2259887.0</td>\n",
       "      <td>2017-01-01</td>\n",
       "      <td>global</td>\n",
       "      <td>1xznGGDReH1oQq0xzbwXa3</td>\n",
       "    </tr>\n",
       "  </tbody>\n",
       "</table>\n",
       "</div>"
      ],
      "text/plain": [
       "   Position                               Track Name            Artist  \\\n",
       "0       1.0                                  Starboy        The Weeknd   \n",
       "1       2.0                                   Closer  The Chainsmokers   \n",
       "2       3.0                          Let Me Love You          DJ Snake   \n",
       "3       4.0  Rockabye (feat. Sean Paul & Anne-Marie)      Clean Bandit   \n",
       "4       5.0                                One Dance             Drake   \n",
       "\n",
       "     Streams        date  region              spotify_id  \n",
       "0  3135625.0  2017-01-01  global  5aAx2yezTd8zXrkmtKl66Z  \n",
       "1  3015525.0  2017-01-01  global  7BKLCZ1jbUBVqRi2FVlTVw  \n",
       "2  2545384.0  2017-01-01  global  4pdPtRcBmOSQDlJ3Fk945m  \n",
       "3  2356604.0  2017-01-01  global  5knuzwU65gJK7IF5yJsuaW  \n",
       "4  2259887.0  2017-01-01  global  1xznGGDReH1oQq0xzbwXa3  "
      ]
     },
     "execution_count": 6,
     "metadata": {},
     "output_type": "execute_result"
    }
   ],
   "source": [
    "# Import required libraries\n",
    "import pandas as pd\n",
    "import numpy as np\n",
    "import pathlib\n",
    "\n",
    "# Load the dataset\n",
    "filepath = pathlib.Path(\"../data/selected_regions_top_200_daily.csv\")\n",
    "\n",
    "if filepath.exists():\n",
    "    data_df = pd.read_csv(filepath, parse_dates=True)\n",
    "else:\n",
    "    print(\"File not found.\")\n",
    "    data_df = pd.DataFrame()\n",
    "    \n",
    "\n",
    "data_df.head()"
   ]
  },
  {
   "cell_type": "code",
   "execution_count": 9,
   "metadata": {},
   "outputs": [
    {
     "data": {
      "text/plain": [
       "count    2.971820e+05\n",
       "mean     1.180002e+06\n",
       "std      8.366437e+05\n",
       "min      3.259510e+05\n",
       "25%      6.888458e+05\n",
       "50%      8.864655e+05\n",
       "75%      1.359188e+06\n",
       "max      1.722324e+07\n",
       "Name: Streams, dtype: float64"
      ]
     },
     "execution_count": 9,
     "metadata": {},
     "output_type": "execute_result"
    }
   ],
   "source": [
    "data_df[data_df[\"region\"] == \"global\"][\"Streams\"].describe()"
   ]
  },
  {
   "cell_type": "code",
   "execution_count": 11,
   "metadata": {},
   "outputs": [
    {
     "data": {
      "text/html": [
       "<div>\n",
       "<style scoped>\n",
       "    .dataframe tbody tr th:only-of-type {\n",
       "        vertical-align: middle;\n",
       "    }\n",
       "\n",
       "    .dataframe tbody tr th {\n",
       "        vertical-align: top;\n",
       "    }\n",
       "\n",
       "    .dataframe thead th {\n",
       "        text-align: right;\n",
       "    }\n",
       "</style>\n",
       "<table border=\"1\" class=\"dataframe\">\n",
       "  <thead>\n",
       "    <tr style=\"text-align: right;\">\n",
       "      <th></th>\n",
       "      <th>Position</th>\n",
       "      <th>Track Name</th>\n",
       "      <th>Artist</th>\n",
       "      <th>Streams</th>\n",
       "      <th>date</th>\n",
       "      <th>region</th>\n",
       "      <th>spotify_id</th>\n",
       "    </tr>\n",
       "  </thead>\n",
       "  <tbody>\n",
       "    <tr>\n",
       "      <th>2026872</th>\n",
       "      <td>1.0</td>\n",
       "      <td>All I Want for Christmas Is You</td>\n",
       "      <td>Mariah Carey</td>\n",
       "      <td>17223237.0</td>\n",
       "      <td>2020-12-24</td>\n",
       "      <td>global</td>\n",
       "      <td>0bYg9bo50gSsH3LtXe2SQn</td>\n",
       "    </tr>\n",
       "  </tbody>\n",
       "</table>\n",
       "</div>"
      ],
      "text/plain": [
       "         Position                       Track Name        Artist     Streams  \\\n",
       "2026872       1.0  All I Want for Christmas Is You  Mariah Carey  17223237.0   \n",
       "\n",
       "               date  region              spotify_id  \n",
       "2026872  2020-12-24  global  0bYg9bo50gSsH3LtXe2SQn  "
      ]
     },
     "execution_count": 11,
     "metadata": {},
     "output_type": "execute_result"
    }
   ],
   "source": [
    "data_df[data_df[\"Streams\"] == data_df[data_df[\"region\"] == \"global\"][\"Streams\"].max()]"
   ]
  },
  {
   "cell_type": "code",
   "execution_count": null,
   "metadata": {},
   "outputs": [],
   "source": [
    "data_df[data_df[\"region\"] == \"global\"][]"
   ]
  },
  {
   "cell_type": "code",
   "execution_count": 13,
   "metadata": {},
   "outputs": [
    {
     "data": {
      "text/html": [
       "<div>\n",
       "<style scoped>\n",
       "    .dataframe tbody tr th:only-of-type {\n",
       "        vertical-align: middle;\n",
       "    }\n",
       "\n",
       "    .dataframe tbody tr th {\n",
       "        vertical-align: top;\n",
       "    }\n",
       "\n",
       "    .dataframe thead th {\n",
       "        text-align: right;\n",
       "    }\n",
       "</style>\n",
       "<table border=\"1\" class=\"dataframe\">\n",
       "  <thead>\n",
       "    <tr style=\"text-align: right;\">\n",
       "      <th></th>\n",
       "      <th>Position</th>\n",
       "      <th>Track Name</th>\n",
       "      <th>Artist</th>\n",
       "      <th>Streams</th>\n",
       "      <th>date</th>\n",
       "      <th>region</th>\n",
       "      <th>spotify_id</th>\n",
       "    </tr>\n",
       "  </thead>\n",
       "  <tbody>\n",
       "    <tr>\n",
       "      <th>0</th>\n",
       "      <td>1.0</td>\n",
       "      <td>Starboy</td>\n",
       "      <td>The Weeknd</td>\n",
       "      <td>3135625.0</td>\n",
       "      <td>2017-01-01</td>\n",
       "      <td>global</td>\n",
       "      <td>5aAx2yezTd8zXrkmtKl66Z</td>\n",
       "    </tr>\n",
       "    <tr>\n",
       "      <th>1</th>\n",
       "      <td>2.0</td>\n",
       "      <td>Closer</td>\n",
       "      <td>The Chainsmokers</td>\n",
       "      <td>3015525.0</td>\n",
       "      <td>2017-01-01</td>\n",
       "      <td>global</td>\n",
       "      <td>7BKLCZ1jbUBVqRi2FVlTVw</td>\n",
       "    </tr>\n",
       "    <tr>\n",
       "      <th>2</th>\n",
       "      <td>3.0</td>\n",
       "      <td>Let Me Love You</td>\n",
       "      <td>DJ Snake</td>\n",
       "      <td>2545384.0</td>\n",
       "      <td>2017-01-01</td>\n",
       "      <td>global</td>\n",
       "      <td>4pdPtRcBmOSQDlJ3Fk945m</td>\n",
       "    </tr>\n",
       "    <tr>\n",
       "      <th>3</th>\n",
       "      <td>4.0</td>\n",
       "      <td>Rockabye (feat. Sean Paul &amp; Anne-Marie)</td>\n",
       "      <td>Clean Bandit</td>\n",
       "      <td>2356604.0</td>\n",
       "      <td>2017-01-01</td>\n",
       "      <td>global</td>\n",
       "      <td>5knuzwU65gJK7IF5yJsuaW</td>\n",
       "    </tr>\n",
       "    <tr>\n",
       "      <th>4</th>\n",
       "      <td>5.0</td>\n",
       "      <td>One Dance</td>\n",
       "      <td>Drake</td>\n",
       "      <td>2259887.0</td>\n",
       "      <td>2017-01-01</td>\n",
       "      <td>global</td>\n",
       "      <td>1xznGGDReH1oQq0xzbwXa3</td>\n",
       "    </tr>\n",
       "  </tbody>\n",
       "</table>\n",
       "</div>"
      ],
      "text/plain": [
       "   Position                               Track Name            Artist  \\\n",
       "0       1.0                                  Starboy        The Weeknd   \n",
       "1       2.0                                   Closer  The Chainsmokers   \n",
       "2       3.0                          Let Me Love You          DJ Snake   \n",
       "3       4.0  Rockabye (feat. Sean Paul & Anne-Marie)      Clean Bandit   \n",
       "4       5.0                                One Dance             Drake   \n",
       "\n",
       "     Streams       date  region              spotify_id  \n",
       "0  3135625.0 2017-01-01  global  5aAx2yezTd8zXrkmtKl66Z  \n",
       "1  3015525.0 2017-01-01  global  7BKLCZ1jbUBVqRi2FVlTVw  \n",
       "2  2545384.0 2017-01-01  global  4pdPtRcBmOSQDlJ3Fk945m  \n",
       "3  2356604.0 2017-01-01  global  5knuzwU65gJK7IF5yJsuaW  \n",
       "4  2259887.0 2017-01-01  global  1xznGGDReH1oQq0xzbwXa3  "
      ]
     },
     "execution_count": 13,
     "metadata": {},
     "output_type": "execute_result"
    }
   ],
   "source": [
    "data_df[\"date\"] = pd.to_datetime(data_df[\"date\"], format=\"%Y-%m-%d\")\n",
    "data_df.head()"
   ]
  },
  {
   "cell_type": "code",
   "execution_count": 14,
   "metadata": {},
   "outputs": [
    {
     "data": {
      "text/html": [
       "<div>\n",
       "<style scoped>\n",
       "    .dataframe tbody tr th:only-of-type {\n",
       "        vertical-align: middle;\n",
       "    }\n",
       "\n",
       "    .dataframe tbody tr th {\n",
       "        vertical-align: top;\n",
       "    }\n",
       "\n",
       "    .dataframe thead th {\n",
       "        text-align: right;\n",
       "    }\n",
       "</style>\n",
       "<table border=\"1\" class=\"dataframe\">\n",
       "  <thead>\n",
       "    <tr style=\"text-align: right;\">\n",
       "      <th></th>\n",
       "      <th>Position</th>\n",
       "      <th>Track Name</th>\n",
       "      <th>Artist</th>\n",
       "      <th>Streams</th>\n",
       "      <th>date</th>\n",
       "      <th>region</th>\n",
       "      <th>spotify_id</th>\n",
       "      <th>month</th>\n",
       "      <th>year</th>\n",
       "    </tr>\n",
       "  </thead>\n",
       "  <tbody>\n",
       "    <tr>\n",
       "      <th>0</th>\n",
       "      <td>1.0</td>\n",
       "      <td>Starboy</td>\n",
       "      <td>The Weeknd</td>\n",
       "      <td>3135625.0</td>\n",
       "      <td>2017-01-01</td>\n",
       "      <td>global</td>\n",
       "      <td>5aAx2yezTd8zXrkmtKl66Z</td>\n",
       "      <td>1</td>\n",
       "      <td>2017</td>\n",
       "    </tr>\n",
       "    <tr>\n",
       "      <th>1</th>\n",
       "      <td>2.0</td>\n",
       "      <td>Closer</td>\n",
       "      <td>The Chainsmokers</td>\n",
       "      <td>3015525.0</td>\n",
       "      <td>2017-01-01</td>\n",
       "      <td>global</td>\n",
       "      <td>7BKLCZ1jbUBVqRi2FVlTVw</td>\n",
       "      <td>1</td>\n",
       "      <td>2017</td>\n",
       "    </tr>\n",
       "    <tr>\n",
       "      <th>2</th>\n",
       "      <td>3.0</td>\n",
       "      <td>Let Me Love You</td>\n",
       "      <td>DJ Snake</td>\n",
       "      <td>2545384.0</td>\n",
       "      <td>2017-01-01</td>\n",
       "      <td>global</td>\n",
       "      <td>4pdPtRcBmOSQDlJ3Fk945m</td>\n",
       "      <td>1</td>\n",
       "      <td>2017</td>\n",
       "    </tr>\n",
       "    <tr>\n",
       "      <th>3</th>\n",
       "      <td>4.0</td>\n",
       "      <td>Rockabye (feat. Sean Paul &amp; Anne-Marie)</td>\n",
       "      <td>Clean Bandit</td>\n",
       "      <td>2356604.0</td>\n",
       "      <td>2017-01-01</td>\n",
       "      <td>global</td>\n",
       "      <td>5knuzwU65gJK7IF5yJsuaW</td>\n",
       "      <td>1</td>\n",
       "      <td>2017</td>\n",
       "    </tr>\n",
       "    <tr>\n",
       "      <th>4</th>\n",
       "      <td>5.0</td>\n",
       "      <td>One Dance</td>\n",
       "      <td>Drake</td>\n",
       "      <td>2259887.0</td>\n",
       "      <td>2017-01-01</td>\n",
       "      <td>global</td>\n",
       "      <td>1xznGGDReH1oQq0xzbwXa3</td>\n",
       "      <td>1</td>\n",
       "      <td>2017</td>\n",
       "    </tr>\n",
       "  </tbody>\n",
       "</table>\n",
       "</div>"
      ],
      "text/plain": [
       "   Position                               Track Name            Artist  \\\n",
       "0       1.0                                  Starboy        The Weeknd   \n",
       "1       2.0                                   Closer  The Chainsmokers   \n",
       "2       3.0                          Let Me Love You          DJ Snake   \n",
       "3       4.0  Rockabye (feat. Sean Paul & Anne-Marie)      Clean Bandit   \n",
       "4       5.0                                One Dance             Drake   \n",
       "\n",
       "     Streams       date  region              spotify_id  month  year  \n",
       "0  3135625.0 2017-01-01  global  5aAx2yezTd8zXrkmtKl66Z      1  2017  \n",
       "1  3015525.0 2017-01-01  global  7BKLCZ1jbUBVqRi2FVlTVw      1  2017  \n",
       "2  2545384.0 2017-01-01  global  4pdPtRcBmOSQDlJ3Fk945m      1  2017  \n",
       "3  2356604.0 2017-01-01  global  5knuzwU65gJK7IF5yJsuaW      1  2017  \n",
       "4  2259887.0 2017-01-01  global  1xznGGDReH1oQq0xzbwXa3      1  2017  "
      ]
     },
     "execution_count": 14,
     "metadata": {},
     "output_type": "execute_result"
    }
   ],
   "source": [
    "data_df[\"month\"] = data_df[\"date\"].dt.month\n",
    "data_df[\"year\"] = data_df[\"date\"].dt.year\n",
    "\n",
    "data_df.head()"
   ]
  },
  {
   "cell_type": "code",
   "execution_count": 22,
   "metadata": {},
   "outputs": [
    {
     "data": {
      "image/png": "[encoded data removed]",
      "text/plain": [
       "<Figure size 1440x720 with 1 Axes>"
      ]
     },
     "metadata": {
      "needs_background": "light"
     },
     "output_type": "display_data"
    }
   ],
   "source": [
    "data_df.groupby([\"year\", \"month\"]).sum()[\"Streams\"].plot(kind=\"bar\",\n",
    "                                                         figsize=(20,10));"
   ]
  },
  {
   "cell_type": "code",
   "execution_count": 24,
   "metadata": {},
   "outputs": [],
   "source": [
    "import seaborn as sns"
   ]
  },
  {
   "cell_type": "code",
   "execution_count": 27,
   "metadata": {},
   "outputs": [
    {
     "data": {
      "image/png": "[encoded data removed]",
      "text/plain": [
       "<Figure size 432x288 with 1 Axes>"
      ]
     },
     "metadata": {
      "needs_background": "light"
     },
     "output_type": "display_data"
    }
   ],
   "source": [
    "sns.stripplot(x=data_df[\"year\"], y=data_df[\"Streams\"], jitter=True);"
   ]
  },
  {
   "cell_type": "code",
   "execution_count": null,
   "metadata": {},
   "outputs": [],
   "source": [
    "sns.stripplot(x=data_df[\"year\"])"
   ]
  },
  {
   "cell_type": "code",
   "execution_count": 34,
   "metadata": {},
   "outputs": [
    {
     "data": {
      "text/html": [
       "<div>\n",
       "<style scoped>\n",
       "    .dataframe tbody tr th:only-of-type {\n",
       "        vertical-align: middle;\n",
       "    }\n",
       "\n",
       "    .dataframe tbody tr th {\n",
       "        vertical-align: top;\n",
       "    }\n",
       "\n",
       "    .dataframe thead th {\n",
       "        text-align: right;\n",
       "    }\n",
       "</style>\n",
       "<table border=\"1\" class=\"dataframe\">\n",
       "  <thead>\n",
       "    <tr style=\"text-align: right;\">\n",
       "      <th></th>\n",
       "      <th>Position</th>\n",
       "      <th>Streams</th>\n",
       "      <th>month</th>\n",
       "    </tr>\n",
       "    <tr>\n",
       "      <th>year</th>\n",
       "      <th></th>\n",
       "      <th></th>\n",
       "      <th></th>\n",
       "    </tr>\n",
       "  </thead>\n",
       "  <tbody>\n",
       "    <tr>\n",
       "      <th>2017</th>\n",
       "      <td>50877824.0</td>\n",
       "      <td>1.273908e+11</td>\n",
       "      <td>3306363</td>\n",
       "    </tr>\n",
       "    <tr>\n",
       "      <th>2018</th>\n",
       "      <td>51286131.0</td>\n",
       "      <td>1.473536e+11</td>\n",
       "      <td>3333191</td>\n",
       "    </tr>\n",
       "    <tr>\n",
       "      <th>2019</th>\n",
       "      <td>51334020.0</td>\n",
       "      <td>1.572551e+11</td>\n",
       "      <td>3332633</td>\n",
       "    </tr>\n",
       "    <tr>\n",
       "      <th>2020</th>\n",
       "      <td>51330893.0</td>\n",
       "      <td>1.637367e+11</td>\n",
       "      <td>3321209</td>\n",
       "    </tr>\n",
       "    <tr>\n",
       "      <th>2021</th>\n",
       "      <td>4199901.0</td>\n",
       "      <td>1.263501e+10</td>\n",
       "      <td>41778</td>\n",
       "    </tr>\n",
       "  </tbody>\n",
       "</table>\n",
       "</div>"
      ],
      "text/plain": [
       "        Position       Streams    month\n",
       "year                                   \n",
       "2017  50877824.0  1.273908e+11  3306363\n",
       "2018  51286131.0  1.473536e+11  3333191\n",
       "2019  51334020.0  1.572551e+11  3332633\n",
       "2020  51330893.0  1.637367e+11  3321209\n",
       "2021   4199901.0  1.263501e+10    41778"
      ]
     },
     "execution_count": 34,
     "metadata": {},
     "output_type": "execute_result"
    }
   ],
   "source": [
    "data_df.groupby(\"year\").sum()"
   ]
  },
  {
   "cell_type": "code",
   "execution_count": null,
   "metadata": {},
   "outputs": [],
   "source": []
  }
 ],
 "metadata": {
  "kernelspec": {
   "display_name": "Python 3",
   "language": "python",
   "name": "python3"
  },
  "language_info": {
   "codemirror_mode": {
    "name": "ipython",
    "version": 3
   },
   "file_extension": ".py",
   "mimetype": "text/x-python",
   "name": "python",
   "nbconvert_exporter": "python",
   "pygments_lexer": "ipython3",
   "version": "3.8.5"
  }
 },
 "nbformat": 4,
 "nbformat_minor": 4
}
